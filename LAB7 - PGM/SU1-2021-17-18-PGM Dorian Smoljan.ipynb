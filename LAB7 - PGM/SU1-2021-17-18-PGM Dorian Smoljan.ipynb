{
 "cells": [
  {
   "cell_type": "markdown",
   "metadata": {},
   "source": [
    "Sveučilište u Zagrebu  \n",
    "Fakultet elektrotehnike i računarstva  \n",
    "  \n",
    "## Strojno učenje 1 2021/2022\n",
    "http://www.fer.unizg.hr/predmet/struce1"
   ]
  },
  {
   "cell_type": "markdown",
   "metadata": {},
   "source": [
    "------------------------------\n",
    "\n",
    "### Probabilistički grafički modeli\n",
    "\n",
    "*Verzija: 1.0  \n",
    "Zadnji put ažurirano: 6. siječnja 2021.*\n",
    "\n",
    "(c) 2015-2021 Jan Šnajder, Domagoj Alagić  \n",
    "\n",
    "Rok za predaju: **9. siječnja 2021. u 23:59h**\n",
    "\n",
    "------------------------------"
   ]
  },
  {
   "cell_type": "markdown",
   "metadata": {},
   "source": [
    "### Upute\n",
    "\n",
    "Ova laboratorijska vježba sastoji se od dva zadatka. U nastavku slijedite upute navedene u ćelijama s tekstom. Rješavanje vježbe svodi se na **dopunjavanje ove bilježnice**: umetanja ćelije ili više njih **ispod** teksta zadatka, pisanja odgovarajućeg kôda te evaluiranja ćelija. \n",
    "\n",
    "Osigurajte da u potpunosti **razumijete** kôd koji ste napisali. Kod predaje vježbe, morate biti u stanju na zahtjev asistenta (ili demonstratora) preinačiti i ponovno evaluirati Vaš kôd. Nadalje, morate razumjeti teorijske osnove onoga što radite, u okvirima onoga što smo obradili na predavanju. Ispod nekih zadataka možete naći i pitanja koja služe kao smjernice za bolje razumijevanje gradiva (**nemojte pisati** odgovore na pitanja u bilježnicu). Stoga se nemojte ograničiti samo na to da riješite zadatak, nego slobodno eksperimentirajte. To upravo i jest svrha ovih vježbi.\n",
    "\n",
    "Vježbe trebate raditi **samostalno**. Možete se konzultirati s drugima o načelnom načinu rješavanja, ali u konačnici morate sami odraditi vježbu. U protivnome vježba nema smisla."
   ]
  },
  {
   "cell_type": "code",
   "execution_count": 1,
   "metadata": {
    "collapsed": false,
    "jupyter": {
     "outputs_hidden": false
    }
   },
   "outputs": [
    {
     "name": "stdout",
     "output_type": "stream",
     "text": [
      "Populating the interactive namespace from numpy and matplotlib\n"
     ]
    }
   ],
   "source": [
    "# Učitaj osnovne biblioteke...\n",
    "import sklearn\n",
    "from sklearn.metrics import silhouette_samples, silhouette_score\n",
    "import numpy as np\n",
    "import matplotlib.pyplot as plt\n",
    "import pgmpy as pgm\n",
    "%pylab inline"
   ]
  },
  {
   "cell_type": "markdown",
   "metadata": {},
   "source": [
    "### 1. Probabilistički grafički modeli -- Bayesove mreže"
   ]
  },
  {
   "cell_type": "markdown",
   "metadata": {},
   "source": [
    "Ovaj zadatak bavit će se Bayesovim mrežama, jednim od poznatijih probabilističkih grafičkih modela (*probabilistic graphical models*; PGM). Za lakše eksperimentiranje koristit ćemo programski paket [`pgmpy`](https://github.com/pgmpy/pgmpy). Molimo Vas da provjerite imate li ovaj paket te da ga instalirate ako ga nemate. Upute se nalaze na gornjoj poveznici. Za korisnike Anaconde, najlakše je upisati `conda install -c ankurankan pgmpy` (ili `pip install pgmpy` ako ne prolazi) unutar Anaconda Prompta (i ponovno pokrenuti Jupyter)."
   ]
  },
  {
   "cell_type": "markdown",
   "metadata": {},
   "source": [
    "Prvo ćemo pogledati udžbenički primjer s prskalicom. U ovom primjeru razmatramo Bayesovu mrežu koja modelira zavisnosti između oblačnosti (slučajna varijabla $C$), kiše ($R$), prskalice ($S$) i mokre trave ($W$). U ovom primjeru također pretpostavljamo da već imamo parametre vjerojatnosnih distribucija svih čvorova. Ova mreža prikazana je na sljedećoj slici:"
   ]
  },
  {
   "cell_type": "markdown",
   "metadata": {},
   "source": [
    "![This](http://www.fer.unizg.hr/_download/repository/bayes-net-sprinkler.jpg)"
   ]
  },
  {
   "cell_type": "markdown",
   "metadata": {},
   "source": [
    "Koristeći paket `pgmpy`, konstruirajte Bayesovu mrežu iz gornjeg primjera. Zatim, koristeći **egzaktno** zaključivanje, postavite sljedeće posteriorne upite: $P(w=1)$, $P(s=1|w=1)$, $P(r=1|w=1)$, $P(c=1|s=1, r=1)$ i $P(c=1)$. Provedite zaključivanje na papiru i uvjerite se da ste ispravno konstruirali mrežu. Pomoći će vam službena dokumentacija te primjeri korištenja (npr. [ovaj](https://github.com/pgmpy/pgmpy/blob/dev/examples/Monty%20Hall%20Problem.ipynb))."
   ]
  },
  {
   "cell_type": "code",
   "execution_count": 2,
   "metadata": {
    "tags": []
   },
   "outputs": [],
   "source": [
    "from pgmpy.models import BayesianModel\n",
    "from pgmpy.models import BayesianNetwork\n",
    "from pgmpy.factors.discrete.CPD import TabularCPD\n",
    "from pgmpy.inference import VariableElimination"
   ]
  },
  {
   "cell_type": "code",
   "execution_count": 11,
   "metadata": {
    "tags": []
   },
   "outputs": [
    {
     "name": "stdout",
     "output_type": "stream",
     "text": [
      "Egzaktno zakljulčivanje za upit P(W=1)\n"
     ]
    },
    {
     "data": {
      "application/vnd.jupyter.widget-view+json": {
       "model_id": "44556a8d88254b74b823688308ccd04f",
       "version_major": 2,
       "version_minor": 0
      },
      "text/plain": [
       "  0%|          | 0/3 [00:00<?, ?it/s]"
      ]
     },
     "metadata": {},
     "output_type": "display_data"
    },
    {
     "data": {
      "application/vnd.jupyter.widget-view+json": {
       "model_id": "db2e0cb187b24cc996290bd4d08348d2",
       "version_major": 2,
       "version_minor": 0
      },
      "text/plain": [
       "  0%|          | 0/3 [00:00<?, ?it/s]"
      ]
     },
     "metadata": {},
     "output_type": "display_data"
    },
    {
     "name": "stdout",
     "output_type": "stream",
     "text": [
      "+------+----------+\n",
      "| W    |   phi(W) |\n",
      "+======+==========+\n",
      "| W(0) |   0.6471 |\n",
      "+------+----------+\n",
      "| W(1) |   0.3529 |\n",
      "+------+----------+\n",
      "##################################\n",
      "Egzaktno zaključivanje za upit P(S=1|W=1)\n"
     ]
    },
    {
     "data": {
      "application/vnd.jupyter.widget-view+json": {
       "model_id": "9d9cac2cf0dc4491bfdb8849547fad33",
       "version_major": 2,
       "version_minor": 0
      },
      "text/plain": [
       "  0%|          | 0/2 [00:00<?, ?it/s]"
      ]
     },
     "metadata": {},
     "output_type": "display_data"
    },
    {
     "data": {
      "application/vnd.jupyter.widget-view+json": {
       "model_id": "53ec331cf0f342e8bf5687c2bacbe3ec",
       "version_major": 2,
       "version_minor": 0
      },
      "text/plain": [
       "  0%|          | 0/2 [00:00<?, ?it/s]"
      ]
     },
     "metadata": {},
     "output_type": "display_data"
    },
    {
     "name": "stdout",
     "output_type": "stream",
     "text": [
      "+------+----------+\n",
      "| S    |   phi(S) |\n",
      "+======+==========+\n",
      "| S(0) |   0.0621 |\n",
      "+------+----------+\n",
      "| S(1) |   0.9379 |\n",
      "+------+----------+\n",
      "##################################\n",
      "Egzaktno zaključivanje za upit P(R=1|W=1)\n"
     ]
    },
    {
     "data": {
      "application/vnd.jupyter.widget-view+json": {
       "model_id": "2fc2c119c65d4365b1536f4a78493ca7",
       "version_major": 2,
       "version_minor": 0
      },
      "text/plain": [
       "  0%|          | 0/2 [00:00<?, ?it/s]"
      ]
     },
     "metadata": {},
     "output_type": "display_data"
    },
    {
     "data": {
      "application/vnd.jupyter.widget-view+json": {
       "model_id": "1ae60ba0a36b4bfaa6c91c8cd33ff19b",
       "version_major": 2,
       "version_minor": 0
      },
      "text/plain": [
       "  0%|          | 0/2 [00:00<?, ?it/s]"
      ]
     },
     "metadata": {},
     "output_type": "display_data"
    },
    {
     "name": "stdout",
     "output_type": "stream",
     "text": [
      "+------+----------+\n",
      "| R    |   phi(R) |\n",
      "+======+==========+\n",
      "| R(0) |   0.1187 |\n",
      "+------+----------+\n",
      "| R(1) |   0.8813 |\n",
      "+------+----------+\n",
      "##################################\n",
      "Egzaktno zaključivanje za upit P(C=1|S=1, R=1)\n"
     ]
    },
    {
     "data": {
      "application/vnd.jupyter.widget-view+json": {
       "model_id": "96cf488bf0e14caeac815c611fce6deb",
       "version_major": 2,
       "version_minor": 0
      },
      "text/plain": [
       "0it [00:00, ?it/s]"
      ]
     },
     "metadata": {},
     "output_type": "display_data"
    },
    {
     "data": {
      "application/vnd.jupyter.widget-view+json": {
       "model_id": "cf157ae4a36b44ef9f3dbfd77227ad6c",
       "version_major": 2,
       "version_minor": 0
      },
      "text/plain": [
       "0it [00:00, ?it/s]"
      ]
     },
     "metadata": {},
     "output_type": "display_data"
    },
    {
     "name": "stdout",
     "output_type": "stream",
     "text": [
      "+------+----------+\n",
      "| C    |   phi(C) |\n",
      "+======+==========+\n",
      "| C(0) |   0.3103 |\n",
      "+------+----------+\n",
      "| C(1) |   0.6897 |\n",
      "+------+----------+\n",
      "##################################\n",
      "Egzaktno zaključivanje za upit P(C=1)\n"
     ]
    },
    {
     "data": {
      "application/vnd.jupyter.widget-view+json": {
       "model_id": "a5c13a61e448481e9749a0cf452186fb",
       "version_major": 2,
       "version_minor": 0
      },
      "text/plain": [
       "0it [00:00, ?it/s]"
      ]
     },
     "metadata": {},
     "output_type": "display_data"
    },
    {
     "data": {
      "application/vnd.jupyter.widget-view+json": {
       "model_id": "306a4c6f0e644ed091d3d7e90d3d4201",
       "version_major": 2,
       "version_minor": 0
      },
      "text/plain": [
       "0it [00:00, ?it/s]"
      ]
     },
     "metadata": {},
     "output_type": "display_data"
    },
    {
     "name": "stdout",
     "output_type": "stream",
     "text": [
      "+------+----------+\n",
      "| C    |   phi(C) |\n",
      "+======+==========+\n",
      "| C(0) |   0.5000 |\n",
      "+------+----------+\n",
      "| C(1) |   0.5000 |\n",
      "+------+----------+\n",
      "##################################\n"
     ]
    }
   ],
   "source": [
    "#egzaktno zaključivanje = (u ovom slučaju) eliminacija varijabli\n",
    "\n",
    "## konstrukcija Bayesove mreže\n",
    "#cloudy = C, S = sprinkler, R = rain, W = wet grass\n",
    "model = BayesianNetwork([(\"C\", \"S\"), (\"C\", \"R\"), (\"S\",\"W\"), (\"R\",\"W\")])\n",
    "# cloudy nema nikakvih zavisnosti\n",
    "cpd_c = TabularCPD(\"C\", 2, [[0.50], [0.50]])\n",
    "# evidence card je broj mogućnih stanja u \"dokazima\"\n",
    "# npr. ako je evidence varijabla cloudy, evidence card = 2, jer je cloudy binarna varijabl\n",
    "cpd_r = TabularCPD(\"R\",2,[[0.8, 0.20],[0.20, 0.80]], evidence=[\"C\"], evidence_card=[2])\n",
    "cpd_s = TabularCPD(\"S\",2,[[0.10, 0.50],[0.90, 0.50]], evidence=[\"C\"], evidence_card=[2])\n",
    "cpd_w = TabularCPD(\"W\",2, [[0.99, 0.90, 0.90, 0], [0.01, 0.10, 0.10, 1]], evidence=[\"S\",\"R\"],evidence_card=[2,2])\n",
    "\n",
    "# Associating the CPDs with the network structure.\n",
    "model.add_cpds(cpd_c, cpd_r, cpd_s, cpd_w)\n",
    "# check_model check for the model structure and the associated CPD and returns True if everything is correct otherwise throws an exception\n",
    "model.check_model()\n",
    "\n",
    "## zakljucivanje\n",
    "infer = VariableElimination(model)\n",
    "print(\"Egzaktno zakljulčivanje za upit P(W=1)\")\n",
    "posterior_prob = infer.query([\"W\"])\n",
    "print(posterior_prob)\n",
    "print(\"##################################\")\n",
    "\n",
    "print(\"Egzaktno zaključivanje za upit P(S=1|W=1)\")\n",
    "posterior_prob = infer.query([\"S\"], evidence={\"W\":1})\n",
    "print(posterior_prob)\n",
    "print(\"##################################\")\n",
    "\n",
    "print(\"Egzaktno zaključivanje za upit P(R=1|W=1)\")\n",
    "posterior_prob = infer.query([\"R\"], evidence={\"W\":1})\n",
    "print(posterior_prob)\n",
    "print(\"##################################\")\n",
    "\n",
    "print(\"Egzaktno zaključivanje za upit P(C=1|S=1, R=1)\")\n",
    "posterior_prob = infer.query([\"C\"], evidence={\"S\":1, \"R\":1})\n",
    "print(posterior_prob)\n",
    "print(\"##################################\")\n",
    "\n",
    "print(\"Egzaktno zaključivanje za upit P(C=1)\")\n",
    "posterior_prob = infer.query([\"C\"])\n",
    "print(posterior_prob)\n",
    "print(\"##################################\")"
   ]
  },
  {
   "cell_type": "markdown",
   "metadata": {},
   "source": [
    "**Q:** Koju zajedničku vjerojatnosnu razdiobu ova mreža modelira? Kako tu informaciju očitati iz mreže?  \n",
    "**Q:** U zadatku koristimo egzaktno zaključivanje. Kako ono radi?  \n",
    "**Q:** Koja je razlika između posteriornog upita i MAP-upita?  \n",
    "**Q:** Zašto je vjerojatnost $P(c=1)$ drugačija od $P(c=1|s=1,r=1)$ ako znamo da čvorovi $S$ i $R$ nisu roditelji čvora $C$?"
   ]
  },
  {
   "cell_type": "markdown",
   "metadata": {},
   "source": [
    "### 2. Efekt objašnjavanja"
   ]
  },
  {
   "cell_type": "markdown",
   "metadata": {},
   "source": [
    " **Efekt objašnjavanja** (engl. *explaining away*) zanimljiv je fenomen u kojem se događa da se dvije varijable \"natječu\" za objašnjavanje treće. Ovaj fenomen može se primijetiti na gornjoj mreži. U tom se slučaju varijable prskalice ($S$) i kiše ($R$) \"natječu\" za objašnjavanje mokre trave ($W$). Vaš zadatak je pokazati da se fenomen zaista događa."
   ]
  },
  {
   "cell_type": "code",
   "execution_count": 14,
   "metadata": {
    "tags": []
   },
   "outputs": [
    {
     "name": "stdout",
     "output_type": "stream",
     "text": [
      "1 - dogodio se W, ne znamo ništa o R\n"
     ]
    },
    {
     "data": {
      "application/vnd.jupyter.widget-view+json": {
       "model_id": "a7f6f61c10a8493daeca1576e943a027",
       "version_major": 2,
       "version_minor": 0
      },
      "text/plain": [
       "  0%|          | 0/2 [00:00<?, ?it/s]"
      ]
     },
     "metadata": {},
     "output_type": "display_data"
    },
    {
     "data": {
      "application/vnd.jupyter.widget-view+json": {
       "model_id": "0b70fd7c484f4e2c9a48f4a54965ab85",
       "version_major": 2,
       "version_minor": 0
      },
      "text/plain": [
       "  0%|          | 0/2 [00:00<?, ?it/s]"
      ]
     },
     "metadata": {},
     "output_type": "display_data"
    },
    {
     "name": "stdout",
     "output_type": "stream",
     "text": [
      "+------+----------+\n",
      "| S    |   phi(S) |\n",
      "+======+==========+\n",
      "| S(0) |   0.0621 |\n",
      "+------+----------+\n",
      "| S(1) |   0.9379 |\n",
      "+------+----------+\n",
      "2 - dogodio se W, znamo da se dogodio i R\n"
     ]
    },
    {
     "data": {
      "application/vnd.jupyter.widget-view+json": {
       "model_id": "cd33aa7fdedd40819ae71451d8bc79ef",
       "version_major": 2,
       "version_minor": 0
      },
      "text/plain": [
       "  0%|          | 0/1 [00:00<?, ?it/s]"
      ]
     },
     "metadata": {},
     "output_type": "display_data"
    },
    {
     "data": {
      "application/vnd.jupyter.widget-view+json": {
       "model_id": "9fb9f6290d4f4b1b8497c5af16251e11",
       "version_major": 2,
       "version_minor": 0
      },
      "text/plain": [
       "  0%|          | 0/1 [00:00<?, ?it/s]"
      ]
     },
     "metadata": {},
     "output_type": "display_data"
    },
    {
     "name": "stdout",
     "output_type": "stream",
     "text": [
      "+------+----------+\n",
      "| S    |   phi(S) |\n",
      "+======+==========+\n",
      "| S(0) |   0.0675 |\n",
      "+------+----------+\n",
      "| S(1) |   0.9325 |\n",
      "+------+----------+\n",
      "3 - dogodio se W, znamo da se NIJE dogodio i R\n"
     ]
    },
    {
     "data": {
      "application/vnd.jupyter.widget-view+json": {
       "model_id": "1f29ba85ba804660a90f2b99be7d5a3e",
       "version_major": 2,
       "version_minor": 0
      },
      "text/plain": [
       "  0%|          | 0/1 [00:00<?, ?it/s]"
      ]
     },
     "metadata": {},
     "output_type": "display_data"
    },
    {
     "data": {
      "application/vnd.jupyter.widget-view+json": {
       "model_id": "9c504d16e94e42b292a22e9fef1bc898",
       "version_major": 2,
       "version_minor": 0
      },
      "text/plain": [
       "  0%|          | 0/1 [00:00<?, ?it/s]"
      ]
     },
     "metadata": {},
     "output_type": "display_data"
    },
    {
     "name": "stdout",
     "output_type": "stream",
     "text": [
      "+------+----------+\n",
      "| S    |   phi(S) |\n",
      "+======+==========+\n",
      "| S(0) |   0.0215 |\n",
      "+------+----------+\n",
      "| S(1) |   0.9785 |\n",
      "+------+----------+\n",
      "4 - dogodio se W, ne znamo ništa o S\n"
     ]
    },
    {
     "data": {
      "application/vnd.jupyter.widget-view+json": {
       "model_id": "8a4fb23cbe1543f8b09ed2405663a267",
       "version_major": 2,
       "version_minor": 0
      },
      "text/plain": [
       "  0%|          | 0/2 [00:00<?, ?it/s]"
      ]
     },
     "metadata": {},
     "output_type": "display_data"
    },
    {
     "data": {
      "application/vnd.jupyter.widget-view+json": {
       "model_id": "9408a412288840adb17e8f41e3e095f1",
       "version_major": 2,
       "version_minor": 0
      },
      "text/plain": [
       "  0%|          | 0/2 [00:00<?, ?it/s]"
      ]
     },
     "metadata": {},
     "output_type": "display_data"
    },
    {
     "name": "stdout",
     "output_type": "stream",
     "text": [
      "+------+----------+\n",
      "| R    |   phi(R) |\n",
      "+======+==========+\n",
      "| R(0) |   0.1187 |\n",
      "+------+----------+\n",
      "| R(1) |   0.8813 |\n",
      "+------+----------+\n",
      "5 - dogodio se W, znamo da se dogodio i S\n"
     ]
    },
    {
     "data": {
      "application/vnd.jupyter.widget-view+json": {
       "model_id": "15dfe44d9d5749f8baa043dc95c49adf",
       "version_major": 2,
       "version_minor": 0
      },
      "text/plain": [
       "  0%|          | 0/1 [00:00<?, ?it/s]"
      ]
     },
     "metadata": {},
     "output_type": "display_data"
    },
    {
     "data": {
      "application/vnd.jupyter.widget-view+json": {
       "model_id": "08ce7c881dd147e99d4a04eddfccf61b",
       "version_major": 2,
       "version_minor": 0
      },
      "text/plain": [
       "  0%|          | 0/1 [00:00<?, ?it/s]"
      ]
     },
     "metadata": {},
     "output_type": "display_data"
    },
    {
     "name": "stdout",
     "output_type": "stream",
     "text": [
      "+------+----------+\n",
      "| R    |   phi(R) |\n",
      "+======+==========+\n",
      "| R(0) |   0.1239 |\n",
      "+------+----------+\n",
      "| R(1) |   0.8761 |\n",
      "+------+----------+\n",
      "6 - dogodio se W, znamo da se NIJE dogodio S\n"
     ]
    },
    {
     "data": {
      "application/vnd.jupyter.widget-view+json": {
       "model_id": "20f283f539c64d4e86f628f3a3723641",
       "version_major": 2,
       "version_minor": 0
      },
      "text/plain": [
       "  0%|          | 0/1 [00:00<?, ?it/s]"
      ]
     },
     "metadata": {},
     "output_type": "display_data"
    },
    {
     "data": {
      "application/vnd.jupyter.widget-view+json": {
       "model_id": "521efa6db24e4560a871212a1288add0",
       "version_major": 2,
       "version_minor": 0
      },
      "text/plain": [
       "  0%|          | 0/1 [00:00<?, ?it/s]"
      ]
     },
     "metadata": {},
     "output_type": "display_data"
    },
    {
     "name": "stdout",
     "output_type": "stream",
     "text": [
      "+------+----------+\n",
      "| R    |   phi(R) |\n",
      "+======+==========+\n",
      "| R(0) |   0.0411 |\n",
      "+------+----------+\n",
      "| R(1) |   0.9589 |\n",
      "+------+----------+\n"
     ]
    }
   ],
   "source": [
    "# cilj - pokazati da se varijable prskalice, S i kiše, R natječu za objašnjavanje mokre trave\n",
    "# S i R svaka samostalno mogu objasniti W\n",
    "# ako znamo da se ostvario W, naše vjerovanje o tome je li se ostvario npr. S se mijenja \n",
    "# ovisno o tome je li se ostvario R, i obratno\n",
    "\n",
    "# promatramo S\n",
    "# 1) znamo da se dogodio W, ne znamo ništa o R\n",
    "print(\"1 - dogodio se W, ne znamo ništa o R\")\n",
    "posterior_prob = infer.query([\"S\"], evidence={\"W\":1})\n",
    "print(posterior_prob)\n",
    "\n",
    "# 2) znamo da se dogodio W, znamo da se dogodio i R\n",
    "print(\"2 - dogodio se W, znamo da se dogodio i R\")\n",
    "posterior_prob = infer.query([\"S\"], evidence={\"W\":1, \"R\":1})\n",
    "print(posterior_prob)\n",
    "\n",
    "# 3) znamo da se dogodio W, znamo da se NIJE dogodio i R\n",
    "print(\"3 - dogodio se W, znamo da se NIJE dogodio i R\")\n",
    "posterior_prob = infer.query([\"S\"], evidence={\"W\":1, \"R\":0})\n",
    "print(posterior_prob)\n",
    "\n",
    "# vidimo da kad znamo da se nije dogodio R, povećava se vjerojatnost da \n",
    "# se dogodio S, jer ako nije, kako je inače trava mokra (bez kiše i prskalice)\n",
    "# tj. vidimo da se naše vjerovanje je li se ostvario S, ako znamo da se ostvario W, mijenja ovisno o tome\n",
    "# znamo li je li se ostvario R\n",
    "\n",
    "# promatramo R\n",
    "# 4) znamo da se dogodio W, ne znamo ništa o S\n",
    "print(\"4 - dogodio se W, ne znamo ništa o S\")\n",
    "posterior_prob = infer.query([\"R\"], evidence={\"W\":1})\n",
    "print(posterior_prob)\n",
    "\n",
    "# 5) znamo da se dogodio W, znamo da se dogodio S\n",
    "print(\"5 - dogodio se W, znamo da se dogodio i S\")\n",
    "posterior_prob = infer.query([\"R\"], evidence={\"W\":1, \"S\":1})\n",
    "print(posterior_prob)\n",
    "\n",
    "# 6) znamo da se dogodio W, znamo da se NIJE dogodio S\n",
    "print(\"6 - dogodio se W, znamo da se NIJE dogodio S\")\n",
    "posterior_prob = infer.query([\"R\"], evidence={\"W\":1, \"S\":0})\n",
    "print(posterior_prob)\n",
    "\n",
    "# opet, primijećujemo da se vjerojatnost da se dogodio R povećava ako znamo \n",
    "# da se nije dogodio S, a da se dogodio W u odnosu na slučaj kad znamo da se dogodio W, a da se dogodio S\n",
    "# opet, jer moramo nekako objasniti mokru travu\n",
    "\n",
    "\n"
   ]
  },
  {
   "cell_type": "markdown",
   "metadata": {},
   "source": [
    "**Q:** Kako biste svojim riječima opisali ovaj fenomen, koristeći se ovim primjerom?"
   ]
  }
 ],
 "metadata": {
  "anaconda-cloud": {},
  "kernelspec": {
   "display_name": "Python 3 (ipykernel)",
   "language": "python",
   "name": "python3"
  },
  "language_info": {
   "codemirror_mode": {
    "name": "ipython",
    "version": 3
   },
   "file_extension": ".py",
   "mimetype": "text/x-python",
   "name": "python",
   "nbconvert_exporter": "python",
   "pygments_lexer": "ipython3",
   "version": "3.9.5"
  }
 },
 "nbformat": 4,
 "nbformat_minor": 4
}
